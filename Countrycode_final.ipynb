{
 "cells": [
  {
   "cell_type": "code",
   "execution_count": 8,
   "id": "02452805",
   "metadata": {},
   "outputs": [],
   "source": [
    "import pandas as pd"
   ]
  },
  {
   "cell_type": "code",
   "execution_count": 9,
   "id": "e31bbf96",
   "metadata": {},
   "outputs": [],
   "source": [
    "import os"
   ]
  },
  {
   "cell_type": "code",
   "execution_count": 10,
   "id": "c33ca0fe",
   "metadata": {},
   "outputs": [],
   "source": [
    "os.chdir(\"//Users/huongvu/Documents/Fall 2021/Bass Connection\")"
   ]
  },
  {
   "cell_type": "code",
   "execution_count": 11,
   "id": "3eeb589e",
   "metadata": {},
   "outputs": [
    {
     "data": {
      "text/plain": [
       "'/Users/huongvu/Documents/Fall 2021/Bass Connection'"
      ]
     },
     "execution_count": 11,
     "metadata": {},
     "output_type": "execute_result"
    }
   ],
   "source": [
    "os.getcwd()"
   ]
  },
  {
   "cell_type": "code",
   "execution_count": 12,
   "id": "7dcb7061",
   "metadata": {},
   "outputs": [],
   "source": [
    "df1 = pd.read_csv(\"Countrycode.csv\")"
   ]
  },
  {
   "cell_type": "code",
   "execution_count": 15,
   "id": "1f3d84e2",
   "metadata": {},
   "outputs": [],
   "source": [
    "df_final = df1.drop_duplicates()"
   ]
  },
  {
   "cell_type": "code",
   "execution_count": 16,
   "id": "5a69e164",
   "metadata": {},
   "outputs": [],
   "source": [
    "df_final.to_csv('Countrycode_final.csv')"
   ]
  },
  {
   "cell_type": "code",
   "execution_count": null,
   "id": "0bfc77d0",
   "metadata": {},
   "outputs": [],
   "source": []
  }
 ],
 "metadata": {
  "kernelspec": {
   "display_name": "Python 3",
   "language": "python",
   "name": "python3"
  },
  "language_info": {
   "codemirror_mode": {
    "name": "ipython",
    "version": 3
   },
   "file_extension": ".py",
   "mimetype": "text/x-python",
   "name": "python",
   "nbconvert_exporter": "python",
   "pygments_lexer": "ipython3",
   "version": "3.8.8"
  }
 },
 "nbformat": 4,
 "nbformat_minor": 5
}
